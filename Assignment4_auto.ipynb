{
 "cells": [
  {
   "cell_type": "code",
   "execution_count": null,
   "id": "95ca4f8a-3fbb-4c3e-af3a-b9e5dbcb7e5f",
   "metadata": {},
   "outputs": [],
   "source": [
    " "
   ]
  },
  {
   "cell_type": "code",
   "execution_count": 3,
   "id": "0e345b2e-01df-40b8-aba8-365c9ffba6f6",
   "metadata": {},
   "outputs": [],
   "source": [
    "import os\n",
    "import numpy as ny\n",
    "import pandas as pd\n",
    "import matplotlib.pyplot as plt\n",
    "import datetime"
   ]
  },
  {
   "cell_type": "code",
   "execution_count": 4,
   "id": "6e97ec30-cc49-47bb-9a03-df349bb64ba8",
   "metadata": {},
   "outputs": [],
   "source": [
    "modules = os.listdir(\"Modules\")"
   ]
  },
  {
   "cell_type": "code",
   "execution_count": 5,
   "id": "5c0e8a72-c4ec-4244-955c-69d8310ba167",
   "metadata": {},
   "outputs": [],
   "source": [
    "modules_new=modules[:-1] "
   ]
  },
  {
   "cell_type": "code",
   "execution_count": 6,
   "id": "499ab0c3-0fb9-410c-900f-475d0cc6d0ca",
   "metadata": {},
   "outputs": [
    {
     "data": {
      "text/plain": [
       "['top_CLA8.v', 'top_CLA16.v', 'top_CLA64.v', 'top_CLA32.v', 'PGGen.v']"
      ]
     },
     "execution_count": 6,
     "metadata": {},
     "output_type": "execute_result"
    }
   ],
   "source": [
    "modules_new"
   ]
  },
  {
   "cell_type": "code",
   "execution_count": 7,
   "id": "37d9ce6b-dcee-4fb8-9f25-9578347e35fe",
   "metadata": {},
   "outputs": [],
   "source": [
    "top_modules= [mod for mod in modules if mod[0:3]=='top']"
   ]
  },
  {
   "cell_type": "code",
   "execution_count": 8,
   "id": "edff7ed3-96a5-4235-a899-a416440d85b5",
   "metadata": {},
   "outputs": [
    {
     "data": {
      "text/plain": [
       "['top_CLA8.v', 'top_CLA16.v', 'top_CLA64.v', 'top_CLA32.v']"
      ]
     },
     "execution_count": 8,
     "metadata": {},
     "output_type": "execute_result"
    }
   ],
   "source": [
    "top_modules"
   ]
  },
  {
   "cell_type": "code",
   "execution_count": 7,
   "id": "0ef76338-416f-4460-a597-7be4a4ec73f6",
   "metadata": {},
   "outputs": [
    {
     "data": {
      "text/plain": [
       "'top_CLA8'"
      ]
     },
     "execution_count": 7,
     "metadata": {},
     "output_type": "execute_result"
    }
   ],
   "source": [
    "top_modules[0][:-2]"
   ]
  },
  {
   "cell_type": "code",
   "execution_count": null,
   "id": "0c992cfc-ff25-41f4-a68e-188f70cdcc25",
   "metadata": {},
   "outputs": [],
   "source": [
    "os.system(\"vivado -mode batch -source tcl_add.tcl\")"
   ]
  },
  {
   "cell_type": "code",
   "execution_count": null,
   "id": "5243f9f6-6019-442b-9f1b-50658985e306",
   "metadata": {},
   "outputs": [],
   "source": []
  },
  {
   "cell_type": "code",
   "execution_count": 9,
   "id": "0701be34-1271-4929-bd23-fc8c67bf99f6",
   "metadata": {},
   "outputs": [],
   "source": [
    "for filename in top_modules:\n",
    "    os.mkdir(\"Impl/\"+filename[:-2])\n",
    "    os.system(\"vivado -mode batch -source tcl_run.tcl -tclargs {}\".format(filename))"
   ]
  },
  {
   "cell_type": "code",
   "execution_count": null,
   "id": "d76f7e11-e96f-441b-9dad-55ccd07b24f0",
   "metadata": {},
   "outputs": [],
   "source": []
  },
  {
   "cell_type": "code",
   "execution_count": 393,
   "id": "4f734eb4-d8a7-40e8-be37-a727b9121209",
   "metadata": {},
   "outputs": [],
   "source": [
    "designs = os.listdir(\"Impl\")\n",
    "file = [\"power.txt\", \"timing.txt\",\"utilization.txt\"]\n",
    "#col = [\"power\", \"timing\",\"utilization\"]"
   ]
  },
  {
   "cell_type": "code",
   "execution_count": 338,
   "id": "c1c0000d-762e-4135-9fd4-1e1367df722e",
   "metadata": {},
   "outputs": [
    {
     "data": {
      "text/plain": [
       "['.ipynb_checkpoints', 'top_CLA8', 'top_CLA16', 'top_CLA64', 'top_CLA32']"
      ]
     },
     "execution_count": 338,
     "metadata": {},
     "output_type": "execute_result"
    }
   ],
   "source": [
    "designs "
   ]
  },
  {
   "cell_type": "code",
   "execution_count": 339,
   "id": "d4c315e8-0a30-4c2f-b56c-78df87a7b42b",
   "metadata": {},
   "outputs": [],
   "source": [
    "designs_new=designs[1:]"
   ]
  },
  {
   "cell_type": "code",
   "execution_count": 340,
   "id": "e39ea22d-1390-483e-95ad-3b25fd34de6a",
   "metadata": {},
   "outputs": [
    {
     "data": {
      "text/plain": [
       "['top_CLA8', 'top_CLA16', 'top_CLA64', 'top_CLA32']"
      ]
     },
     "execution_count": 340,
     "metadata": {},
     "output_type": "execute_result"
    }
   ],
   "source": [
    "designs_new"
   ]
  },
  {
   "cell_type": "markdown",
   "id": "f2c2399e-a89b-432d-867d-e198608b52b6",
   "metadata": {},
   "source": [
    "## mainprgm"
   ]
  },
  {
   "cell_type": "code",
   "execution_count": 341,
   "id": "e9856a54-9463-48f6-9e3b-367e26b9cd1c",
   "metadata": {},
   "outputs": [],
   "source": [
    "tonpdes = []\n",
    "sigdes=[]\n",
    "lutldes=[]\n",
    "slitdes=[]\n",
    "spdes=[]\n",
    "\n",
    "dpddes = []\n",
    "\n",
    "sldes = []\n",
    "F7Mdes=[]\n",
    "lutmdes=[]\n",
    "lutaldes=[]\n",
    "slltdes=[]\n",
    "lut1des=[]\n",
    "lut2des=[]\n",
    "lut3des=[]\n",
    "lut4des=[]\n",
    "lut5des=[]\n",
    "lut6des=[]\n",
    "lut7des=[]\n",
    "\n",
    "\n",
    "for des in designs_new:\n",
    "    for fl in file:\n",
    "        with open(\"Impl/{}/{}\".format(des,fl)) as f:\n",
    "            lines = f.read()\n",
    "            \n",
    "        sp = lines.split(\"\\n\")\n",
    "        \n",
    "        for l in sp:\n",
    "            if fl == \"power.txt\":\n",
    "                if \"Total On-Chip Power\" in l:\n",
    "                    tonp = float(l.split()[6])\n",
    "                    tonpdes.append(tonp)\n",
    "           \n",
    "                if \"Signals\" in l:\n",
    "                    sig = float(l.split()[3])\n",
    "                    sigdes.append(sig) \n",
    "                    \n",
    "                if \"Slice Logic\" in l:\n",
    "                    slit = float(l.split()[4])\n",
    "                    slitdes.append(sig)\n",
    "                    \n",
    "                if \"LUT as Logic\" in l:\n",
    "                    lutl=float(l.split()[5])\n",
    "                    lutldes.append(lutl)\n",
    "                    \n",
    "                if \"Static Power\" in l:\n",
    "                    sp=float(l.split()[4])\n",
    "                    spdes.append(sp)\n",
    "                    \n",
    "            if fl == \"timing.txt\":\n",
    "                 if \" Data Path Delay\" in l:\n",
    "                    dpd=float(l.split()[3][0:-2])\n",
    "                    dpddes.append(dpd)\n",
    "            \n",
    "            if fl == \"utilization.txt\":       \n",
    "                if \" F7 Muxes\" in l:\n",
    "                     F7M=int(l.split()[4])\n",
    "                     F7Mdes.append(F7M)\n",
    "                if \"| LUT as Memory\" in l:\n",
    "                    lutm=int(l.split()[5])\n",
    "                    lutmdes.append(lutm)\n",
    "                    \n",
    "                if \"| LUT as Logic\" in l:\n",
    "                    lutal=int(l.split()[5])\n",
    "                    lutaldes.append(lutal)\n",
    "                    \n",
    "                if \"| Slice LUTs\" in l:\n",
    "                     sllt=int(l.split()[4])\n",
    "                     slltdes.append(sllt)\n",
    "                \n",
    "                if \"LUT1\" in l:\n",
    "                    lut1=int(l.split()[3])\n",
    "                    lut1des.append(lut1)\n",
    "                    \n",
    "                if \"LUT2\" in l:\n",
    "                    lut2=int(l.split()[3])\n",
    "                    lut2des.append(lut2)\n",
    "                    \n",
    "                if \"LUT3\" in l:\n",
    "                    lut3=int(l.split()[3])\n",
    "                    lut3des.append(lut3)\n",
    "                    \n",
    "                if \"LUT4\" in l:\n",
    "                    lut4=int(l.split()[3])\n",
    "                    lut4des.append(lut4)\n",
    "                    \n",
    "                if \"LUT5\" in l:\n",
    "                    lut5=int(l.split()[3])\n",
    "                    lut5des.append(lut5)\n",
    "                    \n",
    "                if \"LUT6\" in l:\n",
    "                    lut6=int(l.split()[3])\n",
    "                    lut6des.append(lut6)\n",
    "                    \n",
    "                if \"LUT7\" in l:\n",
    "                    lut7=int(l.split()[3])\n",
    "                    lut7des.append(lut7)\n",
    "                    \n",
    "                 "
   ]
  },
  {
   "cell_type": "code",
   "execution_count": 342,
   "id": "e2a829fb-a944-42e6-bd89-a5f3d387e937",
   "metadata": {},
   "outputs": [],
   "source": [
    "Logic=[]\n",
    "for i in range(0,4):\n",
    "    Logic.append(lutldes[i]+spdes[i])"
   ]
  },
  {
   "cell_type": "code",
   "execution_count": 343,
   "id": "e1b9402e-287e-4e61-9bbe-4509a71df7b4",
   "metadata": {},
   "outputs": [],
   "source": [
    "dcdes=[]\n",
    "for i in range(0,4):\n",
    "    dcdes.append(tonpdes[i]-slitdes[i])"
   ]
  },
  {
   "cell_type": "code",
   "execution_count": 383,
   "id": "73f38985-df92-420f-b8a2-6a9cc1264eca",
   "metadata": {},
   "outputs": [],
   "source": [
    "lutasmem2=[0]*len(designs_new)\n",
    "lutaslg2=[0]*len(designs_new)\n",
    "sltlg2=[0]*len(designs_new)\n",
    "lutdiff=[0]*len(designs_new)"
   ]
  },
  {
   "cell_type": "markdown",
   "id": "84cc167f-370c-491f-b49a-10c2e867a0d2",
   "metadata": {},
   "source": [
    " "
   ]
  },
  {
   "cell_type": "code",
   "execution_count": 384,
   "id": "7f1fe591-6301-4970-93f5-ff3e785b208c",
   "metadata": {},
   "outputs": [],
   "source": [
    "#result = [ , ,lutldes ,slitdes ,spdes,dpddes  ,sldes  , ,  , , ,   ]\n",
    "result = [sigdes,Logic,spdes,dcdes,tonpdes,dpddes,F7Mdes,lutmdes,lutaldes,slltdes,lut1des ,lut2des ,lut3des ,lut4des ,lut5des ,lut6des ,lut7des,lutasmem2,lutaslg2,sltlg2,lutdiff]\n",
    "df = pd.DataFrame(result)\n",
    "df.columns = designs_new\n"
   ]
  },
  {
   "cell_type": "code",
   "execution_count": 385,
   "id": "3b72f05c-109e-4ee2-a5e9-04ceca78d45f",
   "metadata": {},
   "outputs": [],
   "source": [
    "df1=df.transpose()"
   ]
  },
  {
   "cell_type": "code",
   "execution_count": 386,
   "id": "21cd3958-81d9-4fa6-a277-9b85a9cf10ad",
   "metadata": {},
   "outputs": [],
   "source": [
    "results_new=['Signal','Logic','Static Power','DC','Total','DataPath Delay','F7_Muxes','LUT_as_memory','LUT_as_logic','Slice_LUT','LUT1','LUT2','LUT3','LUT4','LUT5','LUT6','LUT7','LUT_as_memory2','LUT_as_logic2','Slice_LUT2','LUTs_difference']"
   ]
  },
  {
   "cell_type": "code",
   "execution_count": 387,
   "id": "eed047c4-87dc-452c-9477-027212f158a7",
   "metadata": {},
   "outputs": [],
   "source": [
    "df1.columns=results_new"
   ]
  },
  {
   "cell_type": "code",
   "execution_count": 388,
   "id": "a52e0d05-efb0-4b35-b578-69843fd6dc10",
   "metadata": {},
   "outputs": [],
   "source": [
    "df1=df1.fillna(0)"
   ]
  },
  {
   "cell_type": "code",
   "execution_count": 389,
   "id": "16334674-79f0-4f2c-9f23-76393073e32d",
   "metadata": {},
   "outputs": [
    {
     "data": {
      "text/html": [
       "<div>\n",
       "<style scoped>\n",
       "    .dataframe tbody tr th:only-of-type {\n",
       "        vertical-align: middle;\n",
       "    }\n",
       "\n",
       "    .dataframe tbody tr th {\n",
       "        vertical-align: top;\n",
       "    }\n",
       "\n",
       "    .dataframe thead th {\n",
       "        text-align: right;\n",
       "    }\n",
       "</style>\n",
       "<table border=\"1\" class=\"dataframe\">\n",
       "  <thead>\n",
       "    <tr style=\"text-align: right;\">\n",
       "      <th></th>\n",
       "      <th>Signal</th>\n",
       "      <th>Logic</th>\n",
       "      <th>Static Power</th>\n",
       "      <th>DC</th>\n",
       "      <th>Total</th>\n",
       "      <th>DataPath Delay</th>\n",
       "      <th>F7_Muxes</th>\n",
       "      <th>LUT_as_memory</th>\n",
       "      <th>LUT_as_logic</th>\n",
       "      <th>Slice_LUT</th>\n",
       "      <th>...</th>\n",
       "      <th>LUT2</th>\n",
       "      <th>LUT3</th>\n",
       "      <th>LUT4</th>\n",
       "      <th>LUT5</th>\n",
       "      <th>LUT6</th>\n",
       "      <th>LUT7</th>\n",
       "      <th>LUT_as_memory2</th>\n",
       "      <th>LUT_as_logic2</th>\n",
       "      <th>Slice_LUT2</th>\n",
       "      <th>LUTs_difference</th>\n",
       "    </tr>\n",
       "  </thead>\n",
       "  <tbody>\n",
       "    <tr>\n",
       "      <th>top_CLA8</th>\n",
       "      <td>0.170</td>\n",
       "      <td>0.257</td>\n",
       "      <td>0.191</td>\n",
       "      <td>3.278</td>\n",
       "      <td>5.002</td>\n",
       "      <td>6.927</td>\n",
       "      <td>0.0</td>\n",
       "      <td>0.0</td>\n",
       "      <td>13.0</td>\n",
       "      <td>13.0</td>\n",
       "      <td>...</td>\n",
       "      <td>1.0</td>\n",
       "      <td>2.0</td>\n",
       "      <td>3.0</td>\n",
       "      <td>3.0</td>\n",
       "      <td>6.0</td>\n",
       "      <td>0.0</td>\n",
       "      <td>0.0</td>\n",
       "      <td>0.0</td>\n",
       "      <td>0.0</td>\n",
       "      <td>0.0</td>\n",
       "    </tr>\n",
       "    <tr>\n",
       "      <th>top_CLA16</th>\n",
       "      <td>0.496</td>\n",
       "      <td>0.448</td>\n",
       "      <td>0.256</td>\n",
       "      <td>10.971</td>\n",
       "      <td>11.141</td>\n",
       "      <td>8.335</td>\n",
       "      <td>0.0</td>\n",
       "      <td>0.0</td>\n",
       "      <td>35.0</td>\n",
       "      <td>35.0</td>\n",
       "      <td>...</td>\n",
       "      <td>6.0</td>\n",
       "      <td>4.0</td>\n",
       "      <td>8.0</td>\n",
       "      <td>5.0</td>\n",
       "      <td>22.0</td>\n",
       "      <td>0.0</td>\n",
       "      <td>0.0</td>\n",
       "      <td>0.0</td>\n",
       "      <td>0.0</td>\n",
       "      <td>0.0</td>\n",
       "    </tr>\n",
       "    <tr>\n",
       "      <th>top_CLA64</th>\n",
       "      <td>4.872</td>\n",
       "      <td>3.553</td>\n",
       "      <td>2.405</td>\n",
       "      <td>48.756</td>\n",
       "      <td>49.252</td>\n",
       "      <td>16.020</td>\n",
       "      <td>0.0</td>\n",
       "      <td>0.0</td>\n",
       "      <td>233.0</td>\n",
       "      <td>233.0</td>\n",
       "      <td>...</td>\n",
       "      <td>48.0</td>\n",
       "      <td>14.0</td>\n",
       "      <td>25.0</td>\n",
       "      <td>44.0</td>\n",
       "      <td>155.0</td>\n",
       "      <td>0.0</td>\n",
       "      <td>0.0</td>\n",
       "      <td>0.0</td>\n",
       "      <td>0.0</td>\n",
       "      <td>0.0</td>\n",
       "    </tr>\n",
       "    <tr>\n",
       "      <th>top_CLA32</th>\n",
       "      <td>1.724</td>\n",
       "      <td>1.021</td>\n",
       "      <td>0.514</td>\n",
       "      <td>18.347</td>\n",
       "      <td>23.219</td>\n",
       "      <td>11.285</td>\n",
       "      <td>0.0</td>\n",
       "      <td>0.0</td>\n",
       "      <td>97.0</td>\n",
       "      <td>97.0</td>\n",
       "      <td>...</td>\n",
       "      <td>26.0</td>\n",
       "      <td>9.0</td>\n",
       "      <td>14.0</td>\n",
       "      <td>15.0</td>\n",
       "      <td>59.0</td>\n",
       "      <td>0.0</td>\n",
       "      <td>0.0</td>\n",
       "      <td>0.0</td>\n",
       "      <td>0.0</td>\n",
       "      <td>0.0</td>\n",
       "    </tr>\n",
       "  </tbody>\n",
       "</table>\n",
       "<p>4 rows × 21 columns</p>\n",
       "</div>"
      ],
      "text/plain": [
       "           Signal  Logic  Static Power      DC   Total  DataPath Delay  \\\n",
       "top_CLA8    0.170  0.257         0.191   3.278   5.002           6.927   \n",
       "top_CLA16   0.496  0.448         0.256  10.971  11.141           8.335   \n",
       "top_CLA64   4.872  3.553         2.405  48.756  49.252          16.020   \n",
       "top_CLA32   1.724  1.021         0.514  18.347  23.219          11.285   \n",
       "\n",
       "           F7_Muxes  LUT_as_memory  LUT_as_logic  Slice_LUT  ...  LUT2  LUT3  \\\n",
       "top_CLA8        0.0            0.0          13.0       13.0  ...   1.0   2.0   \n",
       "top_CLA16       0.0            0.0          35.0       35.0  ...   6.0   4.0   \n",
       "top_CLA64       0.0            0.0         233.0      233.0  ...  48.0  14.0   \n",
       "top_CLA32       0.0            0.0          97.0       97.0  ...  26.0   9.0   \n",
       "\n",
       "           LUT4  LUT5   LUT6  LUT7  LUT_as_memory2  LUT_as_logic2  Slice_LUT2  \\\n",
       "top_CLA8    3.0   3.0    6.0   0.0             0.0            0.0         0.0   \n",
       "top_CLA16   8.0   5.0   22.0   0.0             0.0            0.0         0.0   \n",
       "top_CLA64  25.0  44.0  155.0   0.0             0.0            0.0         0.0   \n",
       "top_CLA32  14.0  15.0   59.0   0.0             0.0            0.0         0.0   \n",
       "\n",
       "           LUTs_difference  \n",
       "top_CLA8               0.0  \n",
       "top_CLA16              0.0  \n",
       "top_CLA64              0.0  \n",
       "top_CLA32              0.0  \n",
       "\n",
       "[4 rows x 21 columns]"
      ]
     },
     "execution_count": 389,
     "metadata": {},
     "output_type": "execute_result"
    }
   ],
   "source": [
    "df1"
   ]
  },
  {
   "cell_type": "code",
   "execution_count": 390,
   "id": "9188c6c9-9b76-4350-af72-8fc469f4742d",
   "metadata": {},
   "outputs": [],
   "source": [
    " df1[\"LUT_as_logic2\"]=df1[\"LUT1\"]+df1[\"LUT2\"]+df1[\"LUT3\"]+df1[\"LUT4\"]+df1[\"LUT5\"]+df1[\"LUT6\"]+df1[\"LUT7\"]\n",
    "df1[\"LUT_as_memory2\"]=df1[\"LUT_as_memory\"]\n",
    "df1[\"Slice_LUT2\"]=df1[\"LUT_as_logic2\"]\n",
    "df1[\"LUTs_difference\"]=df1[\"LUT_as_logic2\"]-df1[\"Slice_LUT\"]"
   ]
  },
  {
   "cell_type": "code",
   "execution_count": 391,
   "id": "c2efe701-22ad-4eec-b91c-e0883e275a9c",
   "metadata": {},
   "outputs": [],
   "source": [
    "#df1.insert(loc=0, column='Metric', value=col)\n",
    "\n",
    "df1.to_csv(\"Result/Result.csv\",index=None)"
   ]
  },
  {
   "cell_type": "code",
   "execution_count": 392,
   "id": "da3b662e-b88f-4628-bbf3-fd4e351ced1c",
   "metadata": {},
   "outputs": [
    {
     "data": {
      "text/html": [
       "<div>\n",
       "<style scoped>\n",
       "    .dataframe tbody tr th:only-of-type {\n",
       "        vertical-align: middle;\n",
       "    }\n",
       "\n",
       "    .dataframe tbody tr th {\n",
       "        vertical-align: top;\n",
       "    }\n",
       "\n",
       "    .dataframe thead th {\n",
       "        text-align: right;\n",
       "    }\n",
       "</style>\n",
       "<table border=\"1\" class=\"dataframe\">\n",
       "  <thead>\n",
       "    <tr style=\"text-align: right;\">\n",
       "      <th></th>\n",
       "      <th>Signal</th>\n",
       "      <th>Logic</th>\n",
       "      <th>Static Power</th>\n",
       "      <th>DC</th>\n",
       "      <th>Total</th>\n",
       "      <th>DataPath Delay</th>\n",
       "      <th>F7_Muxes</th>\n",
       "      <th>LUT_as_memory</th>\n",
       "      <th>LUT_as_logic</th>\n",
       "      <th>Slice_LUT</th>\n",
       "      <th>...</th>\n",
       "      <th>LUT2</th>\n",
       "      <th>LUT3</th>\n",
       "      <th>LUT4</th>\n",
       "      <th>LUT5</th>\n",
       "      <th>LUT6</th>\n",
       "      <th>LUT7</th>\n",
       "      <th>LUT_as_memory2</th>\n",
       "      <th>LUT_as_logic2</th>\n",
       "      <th>Slice_LUT2</th>\n",
       "      <th>LUTs_difference</th>\n",
       "    </tr>\n",
       "  </thead>\n",
       "  <tbody>\n",
       "    <tr>\n",
       "      <th>top_CLA8</th>\n",
       "      <td>0.170</td>\n",
       "      <td>0.257</td>\n",
       "      <td>0.191</td>\n",
       "      <td>3.278</td>\n",
       "      <td>5.002</td>\n",
       "      <td>6.927</td>\n",
       "      <td>0.0</td>\n",
       "      <td>0.0</td>\n",
       "      <td>13.0</td>\n",
       "      <td>13.0</td>\n",
       "      <td>...</td>\n",
       "      <td>1.0</td>\n",
       "      <td>2.0</td>\n",
       "      <td>3.0</td>\n",
       "      <td>3.0</td>\n",
       "      <td>6.0</td>\n",
       "      <td>0.0</td>\n",
       "      <td>0.0</td>\n",
       "      <td>15.0</td>\n",
       "      <td>15.0</td>\n",
       "      <td>2.0</td>\n",
       "    </tr>\n",
       "    <tr>\n",
       "      <th>top_CLA16</th>\n",
       "      <td>0.496</td>\n",
       "      <td>0.448</td>\n",
       "      <td>0.256</td>\n",
       "      <td>10.971</td>\n",
       "      <td>11.141</td>\n",
       "      <td>8.335</td>\n",
       "      <td>0.0</td>\n",
       "      <td>0.0</td>\n",
       "      <td>35.0</td>\n",
       "      <td>35.0</td>\n",
       "      <td>...</td>\n",
       "      <td>6.0</td>\n",
       "      <td>4.0</td>\n",
       "      <td>8.0</td>\n",
       "      <td>5.0</td>\n",
       "      <td>22.0</td>\n",
       "      <td>0.0</td>\n",
       "      <td>0.0</td>\n",
       "      <td>45.0</td>\n",
       "      <td>45.0</td>\n",
       "      <td>10.0</td>\n",
       "    </tr>\n",
       "    <tr>\n",
       "      <th>top_CLA64</th>\n",
       "      <td>4.872</td>\n",
       "      <td>3.553</td>\n",
       "      <td>2.405</td>\n",
       "      <td>48.756</td>\n",
       "      <td>49.252</td>\n",
       "      <td>16.020</td>\n",
       "      <td>0.0</td>\n",
       "      <td>0.0</td>\n",
       "      <td>233.0</td>\n",
       "      <td>233.0</td>\n",
       "      <td>...</td>\n",
       "      <td>48.0</td>\n",
       "      <td>14.0</td>\n",
       "      <td>25.0</td>\n",
       "      <td>44.0</td>\n",
       "      <td>155.0</td>\n",
       "      <td>0.0</td>\n",
       "      <td>0.0</td>\n",
       "      <td>286.0</td>\n",
       "      <td>286.0</td>\n",
       "      <td>53.0</td>\n",
       "    </tr>\n",
       "    <tr>\n",
       "      <th>top_CLA32</th>\n",
       "      <td>1.724</td>\n",
       "      <td>1.021</td>\n",
       "      <td>0.514</td>\n",
       "      <td>18.347</td>\n",
       "      <td>23.219</td>\n",
       "      <td>11.285</td>\n",
       "      <td>0.0</td>\n",
       "      <td>0.0</td>\n",
       "      <td>97.0</td>\n",
       "      <td>97.0</td>\n",
       "      <td>...</td>\n",
       "      <td>26.0</td>\n",
       "      <td>9.0</td>\n",
       "      <td>14.0</td>\n",
       "      <td>15.0</td>\n",
       "      <td>59.0</td>\n",
       "      <td>0.0</td>\n",
       "      <td>0.0</td>\n",
       "      <td>123.0</td>\n",
       "      <td>123.0</td>\n",
       "      <td>26.0</td>\n",
       "    </tr>\n",
       "  </tbody>\n",
       "</table>\n",
       "<p>4 rows × 21 columns</p>\n",
       "</div>"
      ],
      "text/plain": [
       "           Signal  Logic  Static Power      DC   Total  DataPath Delay  \\\n",
       "top_CLA8    0.170  0.257         0.191   3.278   5.002           6.927   \n",
       "top_CLA16   0.496  0.448         0.256  10.971  11.141           8.335   \n",
       "top_CLA64   4.872  3.553         2.405  48.756  49.252          16.020   \n",
       "top_CLA32   1.724  1.021         0.514  18.347  23.219          11.285   \n",
       "\n",
       "           F7_Muxes  LUT_as_memory  LUT_as_logic  Slice_LUT  ...  LUT2  LUT3  \\\n",
       "top_CLA8        0.0            0.0          13.0       13.0  ...   1.0   2.0   \n",
       "top_CLA16       0.0            0.0          35.0       35.0  ...   6.0   4.0   \n",
       "top_CLA64       0.0            0.0         233.0      233.0  ...  48.0  14.0   \n",
       "top_CLA32       0.0            0.0          97.0       97.0  ...  26.0   9.0   \n",
       "\n",
       "           LUT4  LUT5   LUT6  LUT7  LUT_as_memory2  LUT_as_logic2  Slice_LUT2  \\\n",
       "top_CLA8    3.0   3.0    6.0   0.0             0.0           15.0        15.0   \n",
       "top_CLA16   8.0   5.0   22.0   0.0             0.0           45.0        45.0   \n",
       "top_CLA64  25.0  44.0  155.0   0.0             0.0          286.0       286.0   \n",
       "top_CLA32  14.0  15.0   59.0   0.0             0.0          123.0       123.0   \n",
       "\n",
       "           LUTs_difference  \n",
       "top_CLA8               2.0  \n",
       "top_CLA16             10.0  \n",
       "top_CLA64             53.0  \n",
       "top_CLA32             26.0  \n",
       "\n",
       "[4 rows x 21 columns]"
      ]
     },
     "execution_count": 392,
     "metadata": {},
     "output_type": "execute_result"
    }
   ],
   "source": [
    "df1"
   ]
  },
  {
   "cell_type": "code",
   "execution_count": null,
   "id": "1c2e7ec4-c648-4b38-9d14-2f0cdff91d9a",
   "metadata": {},
   "outputs": [],
   "source": []
  },
  {
   "cell_type": "code",
   "execution_count": null,
   "id": "7f840589-8331-44f3-b292-a2b0af107654",
   "metadata": {},
   "outputs": [],
   "source": []
  }
 ],
 "metadata": {
  "kernelspec": {
   "display_name": "Python 3",
   "language": "python",
   "name": "python3"
  },
  "language_info": {
   "codemirror_mode": {
    "name": "ipython",
    "version": 3
   },
   "file_extension": ".py",
   "mimetype": "text/x-python",
   "name": "python",
   "nbconvert_exporter": "python",
   "pygments_lexer": "ipython3",
   "version": "3.6.8"
  }
 },
 "nbformat": 4,
 "nbformat_minor": 5
}
